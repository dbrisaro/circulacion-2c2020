{
 "cells": [
  {
   "cell_type": "code",
   "execution_count": null,
   "metadata": {},
   "outputs": [],
   "source": [
    "# INPUTS\n",
    "dir_salida: '/home/jovyan/circulacion-2c2020/modulo_oceano/modeloQG/out_tmp/' # direccion de la salida\n",
    "Lx: 4000000 # tamano de la cuenca (direccion X)\n",
    "Ly: 2000000 # tamano de la cuenca (direccion Y)\n",
    "nx: 202 # numero de punto de grilla (direccion X)\n",
    "ny: 102 # numero de punto de grilla (direccion Y)\n",
    "    \n",
    "from cargar_salida_QG import cargar\n",
    "psi_temp, vort_temp, psiF, vortF, QG_diag, QG_curlw, X, Y, dx, dy=cargar(dir_salida, Lx, Ly, nx, ny)\n"
   ]
  }
 ],
 "metadata": {
  "kernelspec": {
   "display_name": "Python 3",
   "language": "python",
   "name": "python3"
  },
  "language_info": {
   "codemirror_mode": {
    "name": "ipython",
    "version": 3
   },
   "file_extension": ".py",
   "mimetype": "text/x-python",
   "name": "python",
   "nbconvert_exporter": "python",
   "pygments_lexer": "ipython3",
   "version": "3.8.5"
  }
 },
 "nbformat": 4,
 "nbformat_minor": 4
}
